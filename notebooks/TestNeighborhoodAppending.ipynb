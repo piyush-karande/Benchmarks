{
 "cells": [
  {
   "cell_type": "code",
   "execution_count": 3,
   "metadata": {
    "collapsed": false
   },
   "outputs": [],
   "source": [
    "import numpy as np\n",
    "import os\n",
    "\n",
    "import matplotlib as mp\n",
    "mp.use('nbagg')\n",
    "import matplotlib.pyplot as plt\n",
    "\n",
    "os.sys.path.append('../Pilot2/P2B1/')\n",
    "import helper"
   ]
  },
  {
   "cell_type": "code",
   "execution_count": 8,
   "metadata": {
    "collapsed": false
   },
   "outputs": [
    {
     "name": "stdout",
     "output_type": "stream",
     "text": [
      "x_absolute shape:  (3040, 240)\n",
      "x_relative shape:  (3040, 12, 20)\n"
     ]
    }
   ],
   "source": [
    "(X, nbrs_all, resnums) = helper.get_data_arrays('../Pilot2/common/generate_datasets/run16/3k_run16_10us.35fs-DPPC.20-DIPC.60-CHOL.20_chunk_15_outof_29.npz')\n",
    "\n",
    "# Normalizing the data\n",
    "Xnorm = np.concatenate([X[:, :, :, 0:3]/350., X[:, :, :, 3:8], X[:, :, :, 8:]/10.], axis=3)\n",
    "\n",
    "# Select a random frame to test\n",
    "random_frame = np.random.randint(len(Xnorm))\n",
    "\n",
    "# Format data for the append functions\n",
    "nbrs = nbrs_all[random_frame]\n",
    "x_absolute = Xnorm[random_frame].reshape(Xnorm.shape[1], -1)  # For append_nbrs\n",
    "x_relative = Xnorm[random_frame].reshape(Xnorm.shape[1], 12, -1)  # For append_nbrs_relative\n",
    "\n",
    "print \"x_absolute shape: \", x_absolute.shape\n",
    "print \"x_relative shape: \", x_relative.shape"
   ]
  },
  {
   "cell_type": "markdown",
   "metadata": {},
   "source": [
    "# Plot neighborhood molecules\n",
    "\n",
    "1. Perform a sanity check test on the outputs of the two functions by plotting positions of molecules with their neighbors. You can use the same bead for all molecules or the Center of Mass\n",
    "\n",
    "2. Compare the relative positions of neighbors from both function and test if the the relative distances in the second one are working correctly. Would like to see an output for beads of individual molecules and the neighborhood "
   ]
  },
  {
   "cell_type": "code",
   "execution_count": 7,
   "metadata": {
    "collapsed": false
   },
   "outputs": [],
   "source": [
    "appnd_nbrs = helper.append_nbrs\n",
    "appnd_nbrs_rltv = helper.append_nbrs_relative"
   ]
  },
  {
   "cell_type": "code",
   "execution_count": null,
   "metadata": {
    "collapsed": true
   },
   "outputs": [],
   "source": []
  }
 ],
 "metadata": {
  "kernelspec": {
   "display_name": "Python 2",
   "language": "python",
   "name": "python2"
  },
  "language_info": {
   "codemirror_mode": {
    "name": "ipython",
    "version": 2
   },
   "file_extension": ".py",
   "mimetype": "text/x-python",
   "name": "python",
   "nbconvert_exporter": "python",
   "pygments_lexer": "ipython2",
   "version": "2.7.10"
  }
 },
 "nbformat": 4,
 "nbformat_minor": 2
}
