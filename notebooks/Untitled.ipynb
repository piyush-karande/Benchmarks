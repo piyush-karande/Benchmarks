{
 "cells": [
  {
   "cell_type": "code",
   "execution_count": 1,
   "metadata": {
    "collapsed": true,
    "deletable": true,
    "editable": true
   },
   "outputs": [],
   "source": [
    "import numpy as np"
   ]
  },
  {
   "cell_type": "code",
   "execution_count": 127,
   "metadata": {
    "collapsed": false,
    "deletable": true,
    "editable": true
   },
   "outputs": [
    {
     "name": "stdout",
     "output_type": "stream",
     "text": [
      "Feature names:\n",
      "['x', 'y', 'z', 'CHOL', 'DPPC', 'DIPC', 'Head', 'Tail', 'BL1', 'BL2', 'BL3', 'BL4', 'BL5', 'BL6', 'BL7', 'BL8', 'BL9', 'BL10', 'BL11', 'BL12']\n"
     ]
    }
   ],
   "source": [
    "names= ['x', 'y', 'z', 'CHOL', 'DPPC', 'DIPC', 'Head', 'Tail']  \n",
    "for i in range(12):\n",
    "    temp = 'BL'+str(i+1)\n",
    "    names.append(temp)  \n",
    "\n",
    "print \"Feature names:\\n\", names"
   ]
  },
  {
   "cell_type": "code",
   "execution_count": 140,
   "metadata": {
    "collapsed": false,
    "deletable": true,
    "editable": true
   },
   "outputs": [],
   "source": [
    "x = np.zeros([100,3040,12], dtype={'names':names, 'formats':['float']*len(names)})"
   ]
  },
  {
   "cell_type": "code",
   "execution_count": 141,
   "metadata": {
    "collapsed": false,
    "deletable": true,
    "editable": true
   },
   "outputs": [
    {
     "data": {
      "text/plain": [
       "(12,)"
      ]
     },
     "execution_count": 141,
     "metadata": {},
     "output_type": "execute_result"
    }
   ],
   "source": [
    "test = x[0,0,:]\n",
    "test.shape"
   ]
  },
  {
   "cell_type": "code",
   "execution_count": 142,
   "metadata": {
    "collapsed": false,
    "deletable": true,
    "editable": true
   },
   "outputs": [],
   "source": [
    "\n",
    "test = x[['BL1', 'BL2']]\n",
    "x['BL1'] = np.random.random(size=x['BL1'].shape)\n"
   ]
  },
  {
   "cell_type": "code",
   "execution_count": 143,
   "metadata": {
    "collapsed": false,
    "deletable": true,
    "editable": true
   },
   "outputs": [],
   "source": [
    "x[3,5,2] = np.random.random(size=(20))"
   ]
  },
  {
   "cell_type": "code",
   "execution_count": 144,
   "metadata": {
    "collapsed": false,
    "deletable": true,
    "editable": true
   },
   "outputs": [
    {
     "data": {
      "text/plain": [
       "( 0.4983349,  0.23191608,  0.60208335,  0.91894745,  0.09907514,  0.19367652,  0.12869451,  0.52786714,  0.24513069,  0.9311619,  0.43514899,  0.02051529,  0.523117,  0.36231273,  0.96497782,  0.91572776,  0.69055924,  0.04302336,  0.96235278,  0.81439592)"
      ]
     },
     "execution_count": 144,
     "metadata": {},
     "output_type": "execute_result"
    }
   ],
   "source": [
    "x[3,5,2]"
   ]
  },
  {
   "cell_type": "code",
   "execution_count": 1,
   "metadata": {
    "collapsed": true,
    "deletable": true,
    "editable": true
   },
   "outputs": [],
   "source": [
    "import glob "
   ]
  },
  {
   "cell_type": "code",
   "execution_count": 4,
   "metadata": {
    "collapsed": true
   },
   "outputs": [],
   "source": [
    "test = glob.glob('Pilot2/common/generate_datasets/*.npz')"
   ]
  },
  {
   "cell_type": "code",
   "execution_count": 14,
   "metadata": {
    "collapsed": false
   },
   "outputs": [
    {
     "name": "stdout",
     "output_type": "stream",
     "text": [
      "/Users/karande1/Benchmarks/test_01_outof_29_AE_Include_Conv.npy\n",
      "/Users/karande1/Benchmarks/test_02_outof_29_AE_Include_Conv.npy\n",
      "/Users/karande1/Benchmarks/test_03_outof_29_AE_Include_Conv.npy\n",
      "/Users/karande1/Benchmarks/test_16_outof_29_AE_Include_Conv.npy\n",
      "/Users/karande1/Benchmarks/test_17_outof_29_AE_Include_Conv.npy\n",
      "/Users/karande1/Benchmarks/test_18_outof_29_AE_Include_Conv.npy\n"
     ]
    }
   ],
   "source": [
    "for i in test:\n",
    "    print '/Users/karande1/Benchmarks/' + i.split('/')[-1].split('.npz')[0] + '_AE_Include_Conv.npy'"
   ]
  },
  {
   "cell_type": "code",
   "execution_count": 8,
   "metadata": {
    "collapsed": false
   },
   "outputs": [
    {
     "data": {
      "text/plain": [
       "u'/Users/karande1/Benchmarks'"
      ]
     },
     "execution_count": 8,
     "metadata": {},
     "output_type": "execute_result"
    }
   ],
   "source": [
    "%pwd"
   ]
  },
  {
   "cell_type": "code",
   "execution_count": null,
   "metadata": {
    "collapsed": true
   },
   "outputs": [],
   "source": []
  }
 ],
 "metadata": {
  "kernelspec": {
   "display_name": "Python 2",
   "language": "python",
   "name": "python2"
  },
  "language_info": {
   "codemirror_mode": {
    "name": "ipython",
    "version": 2
   },
   "file_extension": ".py",
   "mimetype": "text/x-python",
   "name": "python",
   "nbconvert_exporter": "python",
   "pygments_lexer": "ipython2",
   "version": "2.7.10"
  }
 },
 "nbformat": 4,
 "nbformat_minor": 2
}
